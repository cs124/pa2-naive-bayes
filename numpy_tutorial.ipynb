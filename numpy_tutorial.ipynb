{
 "cells": [
  {
   "cell_type": "markdown",
   "metadata": {},
   "source": [
    "# CS 124 Tutorial: `NumPy`\n",
    "---\n",
    "\n",
    "Based on the `CS 124: Jupyter and Python Tutorial` created by \n",
    "`Krishna Patel (Winter 2020)`, and updated by `Bryan Kim (Winter 2021)` and \n",
    "`Dilara Soylu (Winter 2022)`.\n",
    "\n",
    "Some examples based on the \n",
    "[CS 231n Python Numpy Tutorial (with Jupyter and Colab)](https://cs231n.github.io/python-numpy-tutorial/) by Justin Johnson. "
   ]
  },
  {
   "cell_type": "markdown",
   "metadata": {},
   "source": [
    "<a id='overview'></a>\n",
    "## Overview\n",
    "\n",
    "In this tutorial, we will walk you through some `NumPy` examples as a \n",
    "preparation for our second assignments, `PA 2`.\n",
    "`NumPy` is a very popular `Python` library used for matrix operations and linear\n",
    "algebra.\n",
    "The purpose of this notebook is to give a basic introduction to `NumPy` for \n",
    "students who haven't used it before, and an easy review for those who have.\n",
    "Learning `NumPy` is well worth the effort, as you will be using it constantly if\n",
    "you choose to take further ML/AI courses at Stanford.\n",
    "\n",
    "This notebook is optional and ungraded, so if you have worked with `NumPy` \n",
    "before and feel comfortable working with it, feel free to skim it or skip it."
   ]
  },
  {
   "cell_type": "markdown",
   "metadata": {},
   "source": [
    "<a id='contents'></a>\n",
    "## Contents\n",
    "\n",
    "1. [Environment Check](#environment_check)\n",
    "2. [`NumPy` Exercises](#regular_expressions_exercises)\n",
    "   * [Part 1. Basic `NumPy`](#basic_numpy)\n",
    "   * [Part 2. Indexing and Slicing](#indexing_and_slicing)\n",
    "   * [Part 3. Array Math and Functions](#array_math_and_functions)\n",
    "   * [Part 4. Vectorization](#vectorization)\n",
    "   * [Part 5. Broadcasting](#broadcasting)\n",
    "3. [Next Steps](#next_steps)"
   ]
  },
  {
   "cell_type": "markdown",
   "metadata": {},
   "source": [
    "<a id='environment_check'></a>\n",
    "### Environment Check\n",
    "\n",
    "Let's ensure that we are running our notebook in the correct environment."
   ]
  },
  {
   "cell_type": "code",
   "execution_count": null,
   "metadata": {
    "pycharm": {
     "name": "#%%\n"
    }
   },
   "outputs": [],
   "source": [
    "import os\n",
    "assert os.environ['CONDA_DEFAULT_ENV'] == \"cs124\"\n",
    "\n",
    "import sys\n",
    "assert sys.version_info.major == 3 and sys.version_info.minor == 8"
   ]
  },
  {
   "cell_type": "markdown",
   "metadata": {},
   "source": [
    "If the above cell causes an error, it means that you are using the wrong \n",
    "environment or `Python` version!\n",
    "If this is the case, please follow the troubleshotting steps shared in the \n",
    "[Jupyter Notebook Tutorial](https://github.com/cs124/pa0-python-jupyter-tutorial/blob/main/jupyter_tutorial.ipynb)."
   ]
  },
  {
   "cell_type": "markdown",
   "metadata": {},
   "source": [
    "<a id='numpy_exercises'></a>\n",
    "## `NumPy` Exercises"
   ]
  },
  {
   "cell_type": "markdown",
   "metadata": {},
   "source": [
    "<a id='basic_numpy'></a>\n",
    "\n",
    "### Part 1. Basic `NumPy`"
   ]
  },
  {
   "cell_type": "code",
   "execution_count": null,
   "metadata": {
    "pycharm": {
     "name": "#%%\n"
    }
   },
   "outputs": [],
   "source": [
    "# Let's import numpy (aliasing the import as np is traditional)\n",
    "import numpy as np"
   ]
  },
  {
   "cell_type": "markdown",
   "metadata": {
    "pycharm": {
     "name": "#%% md\n"
    }
   },
   "source": [
    "The basic building blocks of `NumPy` are arrays, which are represented with the\n",
    "`np.ndarray` type.\n",
    "Arrays represent multi-dimensional matrices (often also referred to as tensors).\n",
    "\n",
    "We can easily create a 1-D array (a vector) by calling `np.array()` and passing\n",
    "in a `Python` list with the data that should go into the array:"
   ]
  },
  {
   "cell_type": "code",
   "execution_count": null,
   "metadata": {
    "pycharm": {
     "name": "#%%\n"
    }
   },
   "outputs": [],
   "source": [
    "# This is an array (of type np.ndarray)\n",
    "a = np.array([1, 2, 3, 4, 5])\n",
    "\n",
    "print(\"a is an: {}\".format(type(a)))\n",
    "a"
   ]
  },
  {
   "cell_type": "markdown",
   "metadata": {
    "pycharm": {
     "name": "#%% md\n"
    }
   },
   "source": [
    "Arrays can have different numbers of dimensions, different shapes, and contain\n",
    "elements of different types.\n",
    "Very frequently you'll want to check these properties (especially shape), \n",
    "which you can do like this:"
   ]
  },
  {
   "cell_type": "code",
   "execution_count": null,
   "metadata": {
    "pycharm": {
     "name": "#%%\n"
    }
   },
   "outputs": [],
   "source": [
    "# a is an array containing integers (in this case, 64-bit integers)\n",
    "print(\"Data type of a: {}\".format(a.dtype))\n",
    "\n",
    "# a is a 1-dimensional array of length 5\n",
    "print(\"Shape of a: {}\".format(a.shape))"
   ]
  },
  {
   "cell_type": "code",
   "execution_count": null,
   "metadata": {
    "pycharm": {
     "name": "#%%\n"
    }
   },
   "outputs": [],
   "source": [
    "# Note that b contains floating point numbers, not integers\n",
    "b = np.array([5.0, 1.0])\n",
    "\n",
    "print(\"Data type of b: {}\".format(b.dtype))\n",
    "print(\"Shape of b: {}\".format(b.shape))\n",
    "b"
   ]
  },
  {
   "cell_type": "markdown",
   "metadata": {
    "pycharm": {
     "name": "#%% md\n"
    }
   },
   "source": [
    "As we noted above, you can initialize a 1-D array with a python list.\n",
    "However, most of the time we're interested in higher-dimensional arrays like \n",
    "2-D arrays (matrices).\n",
    "You can initialize them using nested `Python` lists:"
   ]
  },
  {
   "cell_type": "code",
   "execution_count": null,
   "metadata": {
    "pycharm": {
     "name": "#%%\n"
    }
   },
   "outputs": [],
   "source": [
    "# A 2-D array\n",
    "c = np.array([[1, 2],\n",
    "              [3, 4],\n",
    "              [5, 6]])\n",
    "\n",
    "print(\"Shape of c: {}\".format(c.shape))\n",
    "c"
   ]
  },
  {
   "cell_type": "markdown",
   "metadata": {
    "pycharm": {
     "name": "#%% md\n"
    }
   },
   "source": [
    "Note that the length of the __outer__ list is the first dimension (in this\n",
    "case of length 3), while the lengths of the __inner__ lists are the second\n",
    "dimension (in this case of length 2).\n",
    "\n",
    "It's easy to get your dimensions/shapes mixed up if you get the order confused.\n",
    "Just remember that the number of (horizontal) rows is always the first\n",
    "dimension, and the number of (vertical) columns is the second dimension."
   ]
  },
  {
   "cell_type": "markdown",
   "metadata": {
    "pycharm": {
     "name": "#%% md\n"
    }
   },
   "source": [
    "In addition to the basic `np.array`, `NumPy` provides a bunch of other convenient\n",
    "methods to create different types of arrays/matrices (to save you from\n",
    "typing out the data by hand, or having to use loops or `Python` list\n",
    "comprehensions). \n",
    "Some useful ones include:"
   ]
  },
  {
   "cell_type": "code",
   "execution_count": null,
   "metadata": {
    "pycharm": {
     "name": "#%%\n"
    }
   },
   "outputs": [],
   "source": [
    "# To create an all-zero array with the given shape (3, 4)\n",
    "zeros = np.zeros((3, 4))\n",
    "zeros"
   ]
  },
  {
   "cell_type": "code",
   "execution_count": null,
   "metadata": {
    "pycharm": {
     "name": "#%%\n"
    }
   },
   "outputs": [],
   "source": [
    "# To create an all-ones array\n",
    "ones = np.ones((2, 2))\n",
    "ones"
   ]
  },
  {
   "cell_type": "code",
   "execution_count": null,
   "metadata": {
    "pycharm": {
     "name": "#%%\n"
    }
   },
   "outputs": [],
   "source": [
    "# To create an uninitialized array (junk values). This is useful if you know\n",
    "# you're going to manually fill/overwrite the entire array anyways (it saves\n",
    "# the time NumPy would have spent to set every entry to a particular value)\n",
    "# NOTE: Do NOT confuse this with np.zeros(). \"empty\" does not mean all zeroes,\n",
    "# it just means we don't care what is in it. It could be all zeros, it could\n",
    "# be all ones, it could be anything at all.\n",
    "empty = np.empty((2, 2))\n",
    "empty"
   ]
  },
  {
   "cell_type": "code",
   "execution_count": null,
   "metadata": {
    "pycharm": {
     "name": "#%%\n"
    }
   },
   "outputs": [],
   "source": [
    "# To create an array filled with a single value\n",
    "filled = np.full((3, 3), 5)\n",
    "filled"
   ]
  },
  {
   "cell_type": "code",
   "execution_count": null,
   "metadata": {
    "pycharm": {
     "name": "#%%\n"
    }
   },
   "outputs": [],
   "source": [
    "# To create an identity matrix\n",
    "identity = np.identity(3)\n",
    "identity"
   ]
  },
  {
   "cell_type": "code",
   "execution_count": null,
   "metadata": {
    "pycharm": {
     "name": "#%%\n"
    }
   },
   "outputs": [],
   "source": [
    "# To create an array filled with random values sampled uniformly\n",
    "# from [0.0, 1.0)\n",
    "random = np.random.random((2, 2))\n",
    "random"
   ]
  },
  {
   "cell_type": "markdown",
   "metadata": {
    "pycharm": {
     "name": "#%% md\n"
    }
   },
   "source": [
    "Finally, once we have an array that we've initialized with data, we can also\n",
    "reshape it without changing its data using np.reshape!\n",
    "\n",
    "Check out this example:"
   ]
  },
  {
   "cell_type": "code",
   "execution_count": null,
   "metadata": {
    "pycharm": {
     "name": "#%%\n"
    }
   },
   "outputs": [],
   "source": [
    "a = np.array([[1, 2, 3],\n",
    "              [4, 5, 6]])\n",
    "print(\"a.shape = {}\".format(a.shape))\n",
    "a"
   ]
  },
  {
   "cell_type": "code",
   "execution_count": null,
   "metadata": {
    "pycharm": {
     "name": "#%%\n"
    }
   },
   "outputs": [],
   "source": [
    "a_reshaped = a.reshape((3, 2))\n",
    "print(\"a_reshaped.shape = {}\".format(a_reshaped.shape))\n",
    "a_reshaped"
   ]
  },
  {
   "cell_type": "code",
   "execution_count": null,
   "metadata": {
    "pycharm": {
     "name": "#%%\n"
    }
   },
   "outputs": [],
   "source": [
    "a_reshaped = a.reshape((6,))\n",
    "print(\"a_reshaped.shape = {}\".format(a_reshaped.shape))\n",
    "a_reshaped"
   ]
  },
  {
   "cell_type": "code",
   "execution_count": null,
   "metadata": {
    "pycharm": {
     "name": "#%%\n"
    }
   },
   "outputs": [],
   "source": [
    "# Note what happens if we try to reshape to a shape with a different number\n",
    "# of elements:\n",
    "a_reshaped = a.reshape((7,))"
   ]
  },
  {
   "cell_type": "markdown",
   "metadata": {
    "pycharm": {
     "name": "#%% md\n"
    }
   },
   "source": [
    "<a id='indexing_and_slicing'></a>\n",
    "### Part 2. Indexing and Slicing\n",
    "\n",
    "Arrays can be initialized with lists, as we saw, and in many ways they behave\n",
    "a lot like `Python` lists!\n",
    "You can access specific elements by their index (starting with zero, just like \n",
    "in `Python` lists), and modify them:"
   ]
  },
  {
   "cell_type": "code",
   "execution_count": null,
   "metadata": {
    "pycharm": {
     "name": "#%%\n"
    }
   },
   "outputs": [],
   "source": [
    "a = np.array([1.0, 2.0, 3.0, 4.0, 5.0])"
   ]
  },
  {
   "cell_type": "code",
   "execution_count": null,
   "metadata": {
    "pycharm": {
     "name": "#%%\n"
    }
   },
   "outputs": [],
   "source": [
    "b = np.array([[1, 2, 3],\n",
    "              [4, 5, 6],\n",
    "              [7, 8, 9]])"
   ]
  },
  {
   "cell_type": "code",
   "execution_count": null,
   "metadata": {
    "pycharm": {
     "name": "#%%\n"
    }
   },
   "outputs": [],
   "source": [
    "# You can access elements in an array like a Python list by indexing:\n",
    "print(\"a[0] = {}\".format(a[0]))\n",
    "print(\"a[3] = {}\".format(a[3]))"
   ]
  },
  {
   "cell_type": "code",
   "execution_count": null,
   "metadata": {
    "pycharm": {
     "name": "#%%\n"
    }
   },
   "outputs": [],
   "source": [
    "# You can index into higher-dimensional arrays the same way.\n",
    "\n",
    "# NOTE: If you had nested python lists instead of a NumPy array, you'd\n",
    "# need to do something like b[0][1] instead of b[0, 1], so it's a little\n",
    "# different, but the idea is the same. The b[0][1] syntax will also work\n",
    "# for NumPy arrays.\n",
    "print(\"b[0, 0] = {}\".format(b[0, 0]))\n",
    "print(\"b[2, 2] = {}\".format(b[2, 2]))\n",
    "print(\"b[1, 2] = {}\".format(b[1, 2]))"
   ]
  },
  {
   "cell_type": "code",
   "execution_count": null,
   "metadata": {
    "pycharm": {
     "name": "#%%\n"
    }
   },
   "outputs": [],
   "source": [
    "# You can also modify elements just like in a Python list\n",
    "print(\"a before:\\n {}\\n\".format(a))\n",
    "a[2] = 9.0\n",
    "print(\"a after:\\n {}\\n\".format(a))"
   ]
  },
  {
   "cell_type": "markdown",
   "metadata": {
    "pycharm": {
     "name": "#%% md\n"
    }
   },
   "source": [
    "`NumPy` also supports more complex forms of indexing (like slicing), which\n",
    "also behaves similarly to `Python` lists:"
   ]
  },
  {
   "cell_type": "code",
   "execution_count": null,
   "metadata": {
    "pycharm": {
     "name": "#%%\n"
    }
   },
   "outputs": [],
   "source": [
    "# This is just a Python list for comparison\n",
    "example_list = [1, 2, 3, 4, 5, 6]"
   ]
  },
  {
   "cell_type": "code",
   "execution_count": null,
   "metadata": {
    "pycharm": {
     "name": "#%%\n"
    },
    "scrolled": true
   },
   "outputs": [],
   "source": [
    "# Recall how we can slice a Python list\n",
    "\n",
    "# This gives a slice containing every element starting from position/index 1\n",
    "# (inclusive) up to but EXCLUDING the element at position/index 3\n",
    "print(\"example_list[1:3] = {}\".format(example_list[1:3]))\n",
    "\n",
    "# You can also omit the start and end index and it will use the start/end of the\n",
    "# list instead\n",
    "print(\"example_list[:3] = {}\".format(example_list[:3]))\n",
    "print(\"example_list[1:] = {}\".format(example_list[1:]))\n",
    "print(\"example_list[:] = {}\".format(example_list[:]))"
   ]
  },
  {
   "cell_type": "code",
   "execution_count": null,
   "metadata": {
    "pycharm": {
     "name": "#%%\n"
    }
   },
   "outputs": [],
   "source": [
    "# NumPy works exactly the same way\n",
    "\n",
    "a = np.array([1, 2, 3, 4, 5, 6])"
   ]
  },
  {
   "cell_type": "code",
   "execution_count": null,
   "metadata": {
    "pycharm": {
     "name": "#%%\n"
    }
   },
   "outputs": [],
   "source": [
    "print(\"a[1:3] = {}\".format(a[1:3]))\n",
    "print(\"a[:3] = {}\".format(a[:3]))\n",
    "print(\"a[1:] = {}\".format(a[1:]))\n",
    "print(\"a[1:] = {}\".format(a[:]))"
   ]
  },
  {
   "cell_type": "code",
   "execution_count": null,
   "metadata": {},
   "outputs": [],
   "source": [
    "# index with a list\n",
    "a[[1,3,4]]"
   ]
  },
  {
   "cell_type": "markdown",
   "metadata": {
    "pycharm": {
     "name": "#%% md\n"
    }
   },
   "source": [
    "We can modify slices just like how we modified elements using indexing:"
   ]
  },
  {
   "cell_type": "code",
   "execution_count": null,
   "metadata": {
    "pycharm": {
     "name": "#%%\n"
    }
   },
   "outputs": [],
   "source": [
    "print(\"a before:\\n {}\\n\".format(a))\n",
    "a[1:3] = [8, 9]\n",
    "print(\"a after:\\n {}\\n\".format(a))"
   ]
  },
  {
   "cell_type": "markdown",
   "metadata": {
    "pycharm": {
     "name": "#%% md\n"
    }
   },
   "source": [
    "We can also slice multi-dimensional arrays.\n",
    "Try to figure out what each of the expression below will give before running \n",
    "them, to check your intuition:"
   ]
  },
  {
   "cell_type": "code",
   "execution_count": null,
   "metadata": {
    "pycharm": {
     "name": "#%%\n"
    }
   },
   "outputs": [],
   "source": [
    "b = np.array([[1, 2, 3],\n",
    "              [4, 5, 6],\n",
    "              [7, 8, 9]])"
   ]
  },
  {
   "cell_type": "code",
   "execution_count": null,
   "metadata": {
    "pycharm": {
     "name": "#%%\n"
    }
   },
   "outputs": [],
   "source": [
    "print(\"b[:, :] =>\\n {}\\n\".format(b[:, :]))\n",
    "print(\"b[1, :] =>\\n {}\\n\".format(b[1, :]))\n",
    "\n",
    "# Note that 1-D arrays are always treated as row vectors (horizontal)\n",
    "print(\"b[:, 0] =>\\n {}\\n\".format(b[:, 0]))\n",
    "print(\"b[1, :2] =>\\n {}\\n\".format(b[1, :2]))"
   ]
  },
  {
   "cell_type": "code",
   "execution_count": null,
   "metadata": {
    "pycharm": {
     "name": "#%%\n"
    }
   },
   "outputs": [],
   "source": [
    "# Modifying a slice of a 2-D arrays\n",
    "\n",
    "print(\"b before:\\n {}\\n\".format(b))\n",
    "b[:, 0] = 0\n",
    "print(\"b after:\\n {}\\n\".format(b))"
   ]
  },
  {
   "cell_type": "markdown",
   "metadata": {
    "pycharm": {
     "name": "#%% md\n"
    }
   },
   "source": [
    "It's important to think carefully about the shapes/dimensions of the slices\n",
    "that you extract.\n",
    "Depending on how you slice, your result could have fewer dimensions than the \n",
    "original array, or the same number.\n",
    "\n",
    "Think about what shapes you would expect these slices to be, then run the cell \n",
    "below to double-check:\n",
    "\n",
    "Do the results make sense to you? \n",
    "If not, can you figure out why the shapes came out as they did?"
   ]
  },
  {
   "cell_type": "code",
   "execution_count": null,
   "metadata": {
    "pycharm": {
     "name": "#%%\n"
    }
   },
   "outputs": [],
   "source": [
    "print(\"shape(b[:, :]) = {}\".format(b[:, :].shape))\n",
    "print(\"shape(b[1, :]) = {}\".format(b[1, :].shape))\n",
    "print(\"shape(b[1:2, :]) = {}\".format(b[1:2, :].shape))\n",
    "print(\"shape(b[:, 0]) = {}\".format(b[:, 0].shape))\n",
    "print(\"shape(b[:, 0:1]) = {}\".format(b[:, 0:1].shape))"
   ]
  },
  {
   "cell_type": "markdown",
   "metadata": {
    "pycharm": {
     "name": "#%% md\n"
    }
   },
   "source": [
    "<a id='array_math_and_functions'></a>\n",
    "### Part 3. Array Math and Functions\n",
    "\n",
    "We covered creating arrays and reading/writing elements in them, but the main\n",
    "reason we use `NumPy` in the first place is to do math with arrays (linear\n",
    "algebra).\n",
    "For the most part, array/vector math in `NumPy` is extremely straight-forward \n",
    "and intuitive.\n",
    "You can add, subtract, multiply, etc. `NumPy` arrays just like they were \n",
    "`Python` numbers and NumPy will take care of everything for you!\n",
    "\n",
    "For example:"
   ]
  },
  {
   "cell_type": "code",
   "execution_count": null,
   "metadata": {
    "pycharm": {
     "name": "#%%\n"
    }
   },
   "outputs": [],
   "source": [
    "a = np.array([[1,2],\n",
    "              [3,4]])"
   ]
  },
  {
   "cell_type": "code",
   "execution_count": null,
   "metadata": {
    "pycharm": {
     "name": "#%%\n"
    }
   },
   "outputs": [],
   "source": [
    "b = np.array([[3,3],\n",
    "              [4,4]])\n"
   ]
  },
  {
   "cell_type": "markdown",
   "metadata": {
    "pycharm": {
     "name": "#%% md\n"
    }
   },
   "source": [
    "Note that for all the below element-wise operations, the two\n",
    "arrays being added/subtracted/multiplied etc. must have the same shape!\n",
    "(We will talk about an exception to this rule in the next exercise.)\n",
    "\n",
    "Also note that for many matrix operations, there's two ways of\n",
    "writing it in `NumPy`. \n",
    "Either you can call a dedicated function, or you can use the standard \n",
    "\"+, -, *, /\" operators on NumPy arrays as if they were just numbers"
   ]
  },
  {
   "cell_type": "code",
   "execution_count": null,
   "metadata": {
    "pycharm": {
     "name": "#%%\n"
    }
   },
   "outputs": [],
   "source": [
    "# To take an element-wise sum\n",
    "print(\"a + b =>\\n {}\\n\".format(a + b))\n",
    "print(\"np.add(a, b) =>\\n {}\\n\".format(np.add(a, b)))\n",
    "\n",
    "# To take an element-wise difference\n",
    "print(\"b - a =>\\n {}\\n\".format(b - a))\n",
    "print(\"np.subtract(b, a) =>\\n {}\\n\".format(np.subtract(b, a)))\n",
    "\n",
    "# To take an element-wise product\n",
    "print(\"a * b =>\\n {}\\n\".format(a * b))\n",
    "print(\"np.multiply(a, b) =>\\n {}\\n\".format(np.multiply(a, b)))\n",
    "\n",
    "# To take an element-wise quotient\n",
    "print(\"a / b =>\\n {}\\n\".format(a / b))\n",
    "print(\"np.divide(a, b) =>\\n {}\\n\".format(np.divide(a, b)))"
   ]
  },
  {
   "cell_type": "code",
   "execution_count": null,
   "metadata": {
    "pycharm": {
     "name": "#%%\n"
    }
   },
   "outputs": [],
   "source": [
    "# Note what happens when the shapes don't match\n",
    "\n",
    "a = np.array([1, 2, 3])\n",
    "b = np.array([1, 2])\n",
    "\n",
    "a + b"
   ]
  },
  {
   "cell_type": "markdown",
   "metadata": {
    "pycharm": {
     "name": "#%% md\n"
    }
   },
   "source": [
    "`NumPy` also provides a bunch of super-useful functions to compute mathematical\n",
    "functions of NumPy arrays, or do other common operations.\n",
    "Some commonly used ones that you might find useful include:"
   ]
  },
  {
   "cell_type": "code",
   "execution_count": null,
   "metadata": {
    "pycharm": {
     "name": "#%%\n"
    }
   },
   "outputs": [],
   "source": [
    "a = np.array([1, 2, 3])\n",
    "\n",
    "b = np.array([[1, 2, 3],\n",
    "              [4, 5, 6]])\n",
    "\n",
    "c = np.array([2, 3, 4])\n",
    "\n",
    "d = np.array([[3, 4],\n",
    "              [5, 6],\n",
    "              [7, 8]])"
   ]
  },
  {
   "cell_type": "code",
   "execution_count": null,
   "metadata": {
    "pycharm": {
     "name": "#%%\n"
    }
   },
   "outputs": [],
   "source": [
    "# Sum all the elements in an array\n",
    "np.sum(a)"
   ]
  },
  {
   "cell_type": "code",
   "execution_count": null,
   "metadata": {
    "pycharm": {
     "name": "#%%\n"
    }
   },
   "outputs": [],
   "source": [
    "# Sum elements along an axis/dimension\n",
    "np.sum(b, axis=1)"
   ]
  },
  {
   "cell_type": "code",
   "execution_count": null,
   "metadata": {
    "pycharm": {
     "name": "#%%\n"
    }
   },
   "outputs": [],
   "source": [
    "# Take (natural) log element-wise\n",
    "np.log(a)"
   ]
  },
  {
   "cell_type": "code",
   "execution_count": null,
   "metadata": {
    "pycharm": {
     "name": "#%%\n"
    }
   },
   "outputs": [],
   "source": [
    "# Take exponential (e^x) element-wise\n",
    "np.exp(a)"
   ]
  },
  {
   "cell_type": "code",
   "execution_count": null,
   "metadata": {
    "pycharm": {
     "name": "#%%\n"
    }
   },
   "outputs": [],
   "source": [
    "# Take square root element-wise\n",
    "np.sqrt(a)"
   ]
  },
  {
   "cell_type": "code",
   "execution_count": null,
   "metadata": {
    "pycharm": {
     "name": "#%%\n"
    }
   },
   "outputs": [],
   "source": [
    "# Get maximum element in an array\n",
    "print(\"np.max(a) = {}\".format(np.max(a)))\n",
    "print(\"np.max(b) = {}\".format(np.max(b)))\n",
    "print(\"np.max(b, axis=1) = {}\".format(np.max(b, axis=1)))"
   ]
  },
  {
   "cell_type": "code",
   "execution_count": null,
   "metadata": {
    "pycharm": {
     "name": "#%%\n"
    }
   },
   "outputs": [],
   "source": [
    "# Get index of maximum element in an array\n",
    "np.argmax(a)"
   ]
  },
  {
   "cell_type": "code",
   "execution_count": null,
   "metadata": {
    "pycharm": {
     "name": "#%%\n"
    }
   },
   "outputs": [],
   "source": [
    "# Get average of all elements in array\n",
    "np.mean(a)"
   ]
  },
  {
   "cell_type": "code",
   "execution_count": null,
   "metadata": {
    "pycharm": {
     "name": "#%%\n"
    }
   },
   "outputs": [],
   "source": [
    "# Take a dot product between two arrays\n",
    "# In this case, two vectors (1-D arrays)\n",
    "np.dot(a, c)"
   ]
  },
  {
   "cell_type": "code",
   "execution_count": null,
   "metadata": {
    "pycharm": {
     "name": "#%%\n"
    }
   },
   "outputs": [],
   "source": [
    "# Matrix-multiply two arrays\n",
    "print(\"b @ d =>\\n {}\\n\".format(b @ d))\n",
    "print(\"np.matmul(b, d) =>\\n {}\\n\".format(np.matmul(b, d)))"
   ]
  },
  {
   "cell_type": "code",
   "execution_count": null,
   "metadata": {
    "pycharm": {
     "name": "#%%\n"
    }
   },
   "outputs": [],
   "source": [
    "# Get the norm (magnitude) of a matrix/vector\n",
    "# You can specify different types of norm, but by default it does the\n",
    "# 2-norm, which is only vector norm that we'll see in this class.\n",
    "np.linalg.norm(a)"
   ]
  },
  {
   "cell_type": "markdown",
   "metadata": {
    "pycharm": {
     "name": "#%% md\n"
    }
   },
   "source": [
    "__NOTE:__ In general, for most `NumPy` functions that operate on an entire \n",
    "array, you can also specify a dimension or dimensions to apply it along\n",
    "\n",
    "__NOTE:__ There are also other packages that build off of `NumPy` or\n",
    "use `NumPy` arrays.\n",
    "We will very briefly encounter a few examples later in the class like `SciPy`\n",
    "and `PyTorch`. \n",
    "For the most part, these packages tend to work very similarly to the built-in \n",
    "`NumPy` functions above."
   ]
  },
  {
   "cell_type": "markdown",
   "metadata": {},
   "source": [
    "<a id='vectorization'></a>\n",
    "### Part 4. Vectorization"
   ]
  },
  {
   "cell_type": "code",
   "execution_count": null,
   "metadata": {},
   "outputs": [],
   "source": [
    "arrays = np.random.random((1000, 1000))\n",
    "other_array = np.random.random((1000))"
   ]
  },
  {
   "cell_type": "code",
   "execution_count": null,
   "metadata": {},
   "outputs": [],
   "source": [
    "%%time\n",
    "\n",
    "#Compute the max inner product\n",
    "max_i = 0\n",
    "max_val = 0\n",
    "for  i in range(1000):\n",
    "    idp = 0\n",
    "    for j in range(1000):\n",
    "        idp += arrays[i][j] * other_array[j]\n",
    "    if idp > max_val:\n",
    "        max_val = idp\n",
    "        max_i = i\n",
    "print(max_i, max_val)\n",
    "        \n"
   ]
  },
  {
   "cell_type": "code",
   "execution_count": null,
   "metadata": {},
   "outputs": [],
   "source": [
    "%%time\n",
    "\n",
    "arrays = np.array(arrays)\n",
    "other_array = np.array(other_array)\n",
    "idps = np.dot(arrays, other_array)\n",
    "print(np.argmax(idps), np.max(idps))\n"
   ]
  },
  {
   "cell_type": "markdown",
   "metadata": {},
   "source": [
    "<a id='broadcasting'></a>\n",
    "### Part 5. Broadcasting\n",
    "\n",
    "A final topic that may be useful to you is broadcasting. \n",
    "It's one of the most useful and powerful features of `NumPy`, because it lets \n",
    "you write matrix/array operations in a natural way without having to be too \n",
    "specific about what you want `NumPy` to do.\n",
    "\n",
    "In most cases, `NumPy` can use broadcasting to infer what you wanted to do\n",
    "and do it. \n",
    "Let's look at an example:"
   ]
  },
  {
   "cell_type": "code",
   "execution_count": null,
   "metadata": {
    "pycharm": {
     "name": "#%%\n"
    }
   },
   "outputs": [],
   "source": [
    "# Create a multi-dimensional (2 x 1) matrix of ones\n",
    "a = np.ones((1,2))\n",
    "a"
   ]
  },
  {
   "cell_type": "code",
   "execution_count": null,
   "metadata": {
    "pycharm": {
     "name": "#%%\n"
    }
   },
   "outputs": [],
   "source": [
    "# Create a single-element 1-D array\n",
    "b = np.array([4])\n",
    "b"
   ]
  },
  {
   "cell_type": "markdown",
   "metadata": {
    "pycharm": {
     "name": "#%% md\n"
    }
   },
   "source": [
    "Now recall that earlier, when we tried to add, multiply, subtract, etc. two\n",
    "arrays, they had to have the same shape! \n",
    "Let's see what happens when we do some of these things with a and b:"
   ]
  },
  {
   "cell_type": "code",
   "execution_count": null,
   "metadata": {
    "pycharm": {
     "name": "#%%\n"
    }
   },
   "outputs": [],
   "source": [
    "a + b"
   ]
  },
  {
   "cell_type": "code",
   "execution_count": null,
   "metadata": {
    "pycharm": {
     "name": "#%%\n"
    }
   },
   "outputs": [],
   "source": [
    "a - b"
   ]
  },
  {
   "cell_type": "code",
   "execution_count": null,
   "metadata": {
    "pycharm": {
     "name": "#%%\n"
    }
   },
   "outputs": [],
   "source": [
    "a * b"
   ]
  },
  {
   "cell_type": "code",
   "execution_count": null,
   "metadata": {
    "pycharm": {
     "name": "#%%\n"
    }
   },
   "outputs": [],
   "source": [
    "a / b"
   ]
  },
  {
   "cell_type": "markdown",
   "metadata": {
    "pycharm": {
     "name": "#%% md\n"
    }
   },
   "source": [
    "Wait, what happened?? \n",
    "We just said that the shapes had to match, but `a` and `b` definitely don't \n",
    "have the same shape...\n",
    "\n",
    "This is where broadcasting comes into play. Although `a` and `b` don't have the\n",
    "same shape, they have __compatible__ shapes, so `NumPy` was able to guess\n",
    "what we actually wanted to do and __broadcast__ behind the scenes to make the\n",
    "operation work.\n",
    "\n",
    "What `NumPy` did behind the scenes in this case is see that `b` and `a` don't \n",
    "have the same shape, but also realize that maybe we meant to \"re-use\" the value \n",
    "in `b` for every value in `a`. In other words, it \"broadcast\" `b` from its\n",
    "original shape of (1,) to `a`'s shape of (2,) by duplicating the element\n",
    "in `b`.\n",
    "\n",
    "Once it did that, it could simply do the element-wise operation as usual!\n",
    "\n",
    "This makes our life a lot easier, as we didn't have to explicitly write out\n",
    "that duplication and reshaping ourselves.\n",
    "Of course, that assumes that this behavior is actually what we intended.\n",
    "\n",
    "In this case, it seems to make good sense, as if we tell it to subtract the\n",
    "array `[4]` from `[1, 1]`, it seems reasonable that what we are really asking\n",
    "for is for it to subtract 4 from each 1 in the second array."
   ]
  },
  {
   "cell_type": "markdown",
   "metadata": {
    "pycharm": {
     "name": "#%% md\n"
    }
   },
   "source": [
    "Most of the time, `NumPy` assumes that whenever we do an operation on two arrays\n",
    "with different shapes, we would like things to be broadcast if possible to\n",
    "make the operation work.\n",
    "\n",
    "It will then try to expand the smaller array to match the size of the bigger\n",
    "one by copying/repeating the data in the smaller array."
   ]
  },
  {
   "cell_type": "markdown",
   "metadata": {
    "pycharm": {
     "name": "#%% md\n"
    }
   },
   "source": [
    "Let's try a slightly more complicated example involving 2-D arrays:"
   ]
  },
  {
   "cell_type": "code",
   "execution_count": null,
   "metadata": {
    "pycharm": {
     "name": "#%%\n"
    }
   },
   "outputs": [],
   "source": [
    "# Create a 2-D array of shape (4, 3)\n",
    "a = np.ones((4,3))\n",
    "a"
   ]
  },
  {
   "cell_type": "code",
   "execution_count": null,
   "metadata": {
    "pycharm": {
     "name": "#%%\n"
    }
   },
   "outputs": [],
   "source": [
    "# Create an array of shape (4,)\n",
    "# np.arange(n) creates a vector out of increasing\n",
    "# integers from 0 to n (exclusive)\n",
    "b = np.arange(4)\n",
    "\n",
    "# Reshape to (4, 1)\n",
    "b = b.reshape((4, 1))\n",
    "b"
   ]
  },
  {
   "cell_type": "code",
   "execution_count": null,
   "metadata": {
    "pycharm": {
     "name": "#%%\n"
    },
    "scrolled": true
   },
   "outputs": [],
   "source": [
    "# Multiply them together\n",
    "b * a"
   ]
  },
  {
   "cell_type": "markdown",
   "metadata": {
    "pycharm": {
     "name": "#%% md\n"
    }
   },
   "source": [
    "Did it do what you expected?\n",
    "Do you see how broadcasting was applied to create the result?"
   ]
  },
  {
   "cell_type": "markdown",
   "metadata": {},
   "source": [
    "Broadcasting also works with scalars. In general, most operations you can do with two scalars, you can do with an array and a scalar and the operation will be broadcast to every element in the array."
   ]
  },
  {
   "cell_type": "markdown",
   "metadata": {},
   "source": [
    "This is true for the obvious operations:"
   ]
  },
  {
   "cell_type": "code",
   "execution_count": null,
   "metadata": {},
   "outputs": [],
   "source": [
    "a = np.arange(5)\n",
    "a"
   ]
  },
  {
   "cell_type": "code",
   "execution_count": null,
   "metadata": {},
   "outputs": [],
   "source": [
    "a + 5"
   ]
  },
  {
   "cell_type": "code",
   "execution_count": null,
   "metadata": {},
   "outputs": [],
   "source": [
    "a - 1"
   ]
  },
  {
   "cell_type": "code",
   "execution_count": null,
   "metadata": {},
   "outputs": [],
   "source": [
    "a * 10"
   ]
  },
  {
   "cell_type": "code",
   "execution_count": null,
   "metadata": {},
   "outputs": [],
   "source": [
    "a / 2"
   ]
  },
  {
   "cell_type": "code",
   "execution_count": null,
   "metadata": {},
   "outputs": [],
   "source": [
    "a ** 2"
   ]
  },
  {
   "cell_type": "markdown",
   "metadata": {},
   "source": [
    "It's also true in a lot of ways you might not think of right away but that can be very useful! For example:"
   ]
  },
  {
   "cell_type": "code",
   "execution_count": null,
   "metadata": {},
   "outputs": [],
   "source": [
    "a = np.random.random((5, 5))\n",
    "a"
   ]
  },
  {
   "cell_type": "code",
   "execution_count": null,
   "metadata": {},
   "outputs": [],
   "source": [
    "a > 0.5"
   ]
  },
  {
   "cell_type": "markdown",
   "metadata": {},
   "source": [
    "Can you think of a way this might be useful?"
   ]
  },
  {
   "cell_type": "markdown",
   "metadata": {
    "pycharm": {
     "name": "#%% md\n"
    }
   },
   "source": [
    "The details and different cases for broadcasting can be tricky, even\n",
    "for experienced `NumPy` users!\n",
    "So you're certainly not expected to be use or need it heavily in this class. \n",
    "However, knowing the basics of how it works may make your life a little easier \n",
    "and your code a little simpler on some of the homeworks.\n",
    "\n",
    "If you ever find yourself in a confusing situation involving broadcasting, we\n",
    "definitely recommend checking out the `NumPy` documentation on\n",
    "[Broadcasting](https://numpy.org/doc/stable/user/basics.broadcasting.html).\n"
   ]
  },
  {
   "cell_type": "markdown",
   "metadata": {
    "pycharm": {
     "name": "#%% md\n"
    }
   },
   "source": [
    "<a id='next_steps'></a>\n",
    "## Next Steps\n",
    "\n",
    "That's it! \n",
    "That's all the basic `NumPy` knowledge you need for the homeworks in this course\n",
    "(possibly you may not even need all of the tools we have introduced here).\n",
    "\n",
    "If you are interested in learning more about `NumPy`, we recommend:\n",
    "* [The NumPy User Guide](https://numpy.org/doc/stable/user/index.html)\n",
    "* [CS 231n NumPy Tutorial](https://cs231n.github.io/python-numpy-tutorial/#numpy),\n",
    "  which we based much of the content here on, with more advanced topics\n",
    "\n",
    "If you found any issues/errors in the notebook, please let us know!\n",
    "\n",
    "And if you have any further questions about using `NumPy` or confusion about any\n",
    "of the examples in the notebook, stop by office hours or post your question on \n",
    "our `Q&A` platform.\n",
    "Teaching staff will be happy to answer your questions!"
   ]
  }
 ],
 "metadata": {
  "colab": {
   "collapsed_sections": [],
   "name": "CS124 Python Exercises.ipynb",
   "provenance": []
  },
  "kernelspec": {
   "display_name": "Python [conda env:cs124] *",
   "language": "python",
   "name": "conda-env-cs124-py"
  },
  "language_info": {
   "codemirror_mode": {
    "name": "ipython",
    "version": 3
   },
   "file_extension": ".py",
   "mimetype": "text/x-python",
   "name": "python",
   "nbconvert_exporter": "python",
   "pygments_lexer": "ipython3",
   "version": "3.8.5"
  }
 },
 "nbformat": 4,
 "nbformat_minor": 1
}
